{
 "cells": [
  {
   "cell_type": "code",
   "execution_count": 5,
   "metadata": {
    "collapsed": false
   },
   "outputs": [],
   "source": [
    "import numpy as np\n",
    "import pandas as pd\n",
    "import json\n",
    "import os\n",
    "from IPython.core.display import display"
   ]
  },
  {
   "cell_type": "code",
   "execution_count": 6,
   "metadata": {
    "collapsed": false
   },
   "outputs": [],
   "source": [
    "# func Json to dataframe \n",
    "def ToDataFrame(path):\n",
    "    data = pd.DataFrame()\n",
    "    with open(path,'r') as f:\n",
    "        text = f.readlines()    \n",
    "        for line in text:\n",
    "            line = line.strip(\"\\n\")\n",
    "            line_dict = json.loads(line)  \n",
    "            tmp =pd.Series(line_dict)\n",
    "            tmp =pd.DataFrame(tmp)\n",
    "            tmp = tmp.T\n",
    "            data =data.append(tmp,ignore_index=True)\n",
    "    return data "
   ]
  },
  {
   "cell_type": "code",
   "execution_count": null,
   "metadata": {
    "collapsed": false
   },
   "outputs": [],
   "source": [
    "# import yelp_training_set\n",
    "path_bus_train = './data/yelp_training_set/yelp_training_set_business.json' \n",
    "raw_bus_train = ToDataFrame(path_bus_train)\n",
    "\n",
    "path_check_train = './data/yelp_training_set/yelp_training_set_checkin.json' \n",
    "raw_check_train = ToDataFrame(path_check_train)\n",
    "\n",
    "path_review_train = './data/yelp_training_set/yelp_training_set_review.json' \n",
    "raw_review_train = ToDataFrame(path_review_train)\n",
    "\n",
    "\n",
    "path_user_train = './data/yelp_training_set/yelp_training_set_user.json' \n",
    "raw_user_train = ToDataFrame(path_user_train)\n"
   ]
  },
  {
   "cell_type": "code",
   "execution_count": null,
   "metadata": {
    "collapsed": true
   },
   "outputs": [],
   "source": [
    "# test data \n",
    "display(raw_bus_train.shape())"
   ]
  },
  {
   "cell_type": "code",
   "execution_count": null,
   "metadata": {
    "collapsed": false,
    "scrolled": true
   },
   "outputs": [],
   "source": [
    "#持久化\n",
    "raw_bus_train.to_csv('./result/raw_bus_train.csv')\n",
    "raw_check_train.to_csv('./result/raw_check_train.csv')\n",
    "raw_review_train.to_csv('./result/raw_review_train.csv')\n",
    "raw_user_train.to_csv('./result/raw_user_train.csv')"
   ]
  },
  {
   "cell_type": "code",
   "execution_count": null,
   "metadata": {
    "collapsed": true
   },
   "outputs": [],
   "source": []
  }
 ],
 "metadata": {
  "kernelspec": {
   "display_name": "Python 3",
   "language": "python",
   "name": "python3"
  },
  "language_info": {
   "codemirror_mode": {
    "name": "ipython",
    "version": 3
   },
   "file_extension": ".py",
   "mimetype": "text/x-python",
   "name": "python",
   "nbconvert_exporter": "python",
   "pygments_lexer": "ipython3",
   "version": "3.5.1"
  }
 },
 "nbformat": 4,
 "nbformat_minor": 0
}
